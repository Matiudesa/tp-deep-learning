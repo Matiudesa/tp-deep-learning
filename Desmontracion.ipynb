{
 "cells": [
  {
   "attachments": {},
   "cell_type": "markdown",
   "metadata": {},
   "source": [
    "*DEMOSTRACION DE TP INTEGRADOR*\n",
    "\n",
    "\n",
    "Importamos todos los modulos, cargamos los dataframes y chequeamos consistencia."
   ]
  },
  {
   "attachments": {},
   "cell_type": "markdown",
   "metadata": {
    "collapsed": false
   },
   "source": []
  },
  {
   "cell_type": "code",
   "execution_count": 27,
   "metadata": {
    "ExecuteTime": {
     "end_time": "2023-06-29T12:52:22.851847Z",
     "start_time": "2023-06-29T12:52:22.835314Z"
    }
   },
   "outputs": [
    {
     "ename": "ModuleNotFoundError",
     "evalue": "No module named 'peliculas'",
     "output_type": "error",
     "traceback": [
      "\u001b[0;31m---------------------------------------------------------------------------\u001b[0m",
      "\u001b[0;31mModuleNotFoundError\u001b[0m                       Traceback (most recent call last)",
      "Cell \u001b[0;32mIn[27], line 1\u001b[0m\n\u001b[0;32m----> 1\u001b[0m \u001b[39mfrom\u001b[39;00m \u001b[39mcontrollers\u001b[39;00m\u001b[39m.\u001b[39;00m\u001b[39mload\u001b[39;00m \u001b[39mimport\u001b[39;00m  load_all\n\u001b[1;32m      2\u001b[0m \u001b[39mfrom\u001b[39;00m \u001b[39mcontrollers\u001b[39;00m\u001b[39m.\u001b[39;00m\u001b[39mpersonas\u001b[39;00m \u001b[39mimport\u001b[39;00m Personas, PERSONAS_CSV_ROUTE\n\u001b[1;32m      3\u001b[0m \u001b[39mfrom\u001b[39;00m \u001b[39mcontrollers\u001b[39;00m\u001b[39m.\u001b[39;00m\u001b[39mpeliculas\u001b[39;00m \u001b[39mimport\u001b[39;00m Pelicula, PELICULAS_CSV_ROUTE\n",
      "File \u001b[0;32m~/Desktop/ITBA/Deep Learning/tp-deep-learning/controllers/load.py:2\u001b[0m\n\u001b[1;32m      1\u001b[0m \u001b[39mimport\u001b[39;00m \u001b[39mpandas\u001b[39;00m \u001b[39mas\u001b[39;00m \u001b[39mpd\u001b[39;00m\n\u001b[0;32m----> 2\u001b[0m \u001b[39mfrom\u001b[39;00m \u001b[39mpeliculas\u001b[39;00m \u001b[39mimport\u001b[39;00m PELICULAS_CSV_ROUTE\n\u001b[1;32m      3\u001b[0m \u001b[39mfrom\u001b[39;00m \u001b[39mpersonas\u001b[39;00m \u001b[39mimport\u001b[39;00m PERSONAS_CSV_ROUTE\n\u001b[1;32m      4\u001b[0m \u001b[39mfrom\u001b[39;00m \u001b[39mtrabajadores\u001b[39;00m \u001b[39mimport\u001b[39;00m TRABAJADORES_CSV_ROUTE\n",
      "\u001b[0;31mModuleNotFoundError\u001b[0m: No module named 'peliculas'"
     ]
    }
   ],
   "source": [
    "from controllers.load import load_all\n",
    "from controllers.personas import Personas, PERSONAS_CSV_ROUTE\n",
    "from controllers.peliculas import Pelicula, PELICULAS_CSV_ROUTE\n",
    "from controllers.trabajadores import Trabajadores, TRABAJADORES_CSV_ROUTE\n",
    "from controllers.users import UserManagement, USERS_CSV_ROUTE\n",
    "from controllers.scores import Scores, SCORES_CSV_ROUTE\n",
    "\n",
    "# Cargar todos los datos\n",
    "load_all(PERSONAS_CSV_ROUTE, TRABAJADORES_CSV_ROUTE, USERS_CSV_ROUTE, PELICULAS_CSV_ROUTE, SCORES_CSV_ROUTE)\n"
   ]
  }
 ],
 "metadata": {
  "kernelspec": {
   "display_name": "Python 3",
   "language": "python",
   "name": "python3"
  },
  "language_info": {
   "codemirror_mode": {
    "name": "ipython",
    "version": 3
   },
   "file_extension": ".py",
   "mimetype": "text/x-python",
   "name": "python",
   "nbconvert_exporter": "python",
   "pygments_lexer": "ipython3",
   "version": "3.11.3"
  },
  "orig_nbformat": 4
 },
 "nbformat": 4,
 "nbformat_minor": 2
}
