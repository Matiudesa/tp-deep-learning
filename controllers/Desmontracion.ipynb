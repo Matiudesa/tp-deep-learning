{
 "cells": [
  {
   "attachments": {},
   "cell_type": "markdown",
   "metadata": {},
   "source": [
    "*DEMOSTRACION DE TP INTEGRADOR*\n",
    "\n",
    "\n",
    "Importamos todos los modulos, cargamos los dataframes y chequeamos consistencia."
   ]
  },
  {
   "attachments": {},
   "cell_type": "markdown",
   "metadata": {
    "collapsed": false
   },
   "source": [
    "# LLAMADO AL METODO DE CARGA LOAD_ALL()"
   ]
  },
  {
   "cell_type": "code",
   "execution_count": 9,
   "metadata": {
    "ExecuteTime": {
     "end_time": "2023-06-29T15:26:40.679751Z",
     "start_time": "2023-06-29T15:26:40.664887Z"
    }
   },
   "outputs": [
    {
     "ename": "FileNotFoundError",
     "evalue": "[Errno 2] No such file or directory: 'data/peliculas.csv'",
     "output_type": "error",
     "traceback": [
      "\u001b[0;31m---------------------------------------------------------------------------\u001b[0m",
      "\u001b[0;31mFileNotFoundError\u001b[0m                         Traceback (most recent call last)",
      "Cell \u001b[0;32mIn[9], line 9\u001b[0m\n\u001b[1;32m      6\u001b[0m \u001b[39mfrom\u001b[39;00m \u001b[39mload\u001b[39;00m \u001b[39mimport\u001b[39;00m load_all\n\u001b[1;32m      8\u001b[0m \u001b[39m# Cargar todos los datos y chequea consistencia\u001b[39;00m\n\u001b[0;32m----> 9\u001b[0m df_personas, df_trabajadores, df_usuarios, df_peliculas, df_scores \u001b[39m=\u001b[39m load_all(PERSONAS_CSV_ROUTE, TRABAJADORES_CSV_ROUTE, USERS_CSV_ROUTE, PELICULAS_CSV_ROUTE, SCORES_CSV_ROUTE)\n",
      "File \u001b[0;32m~/Desktop/ITBA/Deep Learning/tp-deep-learning/controllers/load.py:27\u001b[0m, in \u001b[0;36mload_all\u001b[0;34m(file_personas, file_trabajadores, file_usuarios, file_peliculas, file_scores)\u001b[0m\n\u001b[1;32m     25\u001b[0m df_trabajadores \u001b[39m=\u001b[39m pd\u001b[39m.\u001b[39mread_csv(file_trabajadores)\n\u001b[1;32m     26\u001b[0m df_usuarios \u001b[39m=\u001b[39m pd\u001b[39m.\u001b[39mread_csv(file_usuarios)\n\u001b[0;32m---> 27\u001b[0m df_peliculas \u001b[39m=\u001b[39m pd\u001b[39m.\u001b[39;49mread_csv(file_peliculas)\n\u001b[1;32m     28\u001b[0m df_scores \u001b[39m=\u001b[39m pd\u001b[39m.\u001b[39mread_csv(file_scores)\n\u001b[1;32m     30\u001b[0m \u001b[39m# Chequeo de consistencia\u001b[39;00m\n",
      "File \u001b[0;32m/Library/Frameworks/Python.framework/Versions/3.11/lib/python3.11/site-packages/pandas/io/parsers/readers.py:912\u001b[0m, in \u001b[0;36mread_csv\u001b[0;34m(filepath_or_buffer, sep, delimiter, header, names, index_col, usecols, dtype, engine, converters, true_values, false_values, skipinitialspace, skiprows, skipfooter, nrows, na_values, keep_default_na, na_filter, verbose, skip_blank_lines, parse_dates, infer_datetime_format, keep_date_col, date_parser, date_format, dayfirst, cache_dates, iterator, chunksize, compression, thousands, decimal, lineterminator, quotechar, quoting, doublequote, escapechar, comment, encoding, encoding_errors, dialect, on_bad_lines, delim_whitespace, low_memory, memory_map, float_precision, storage_options, dtype_backend)\u001b[0m\n\u001b[1;32m    899\u001b[0m kwds_defaults \u001b[39m=\u001b[39m _refine_defaults_read(\n\u001b[1;32m    900\u001b[0m     dialect,\n\u001b[1;32m    901\u001b[0m     delimiter,\n\u001b[0;32m   (...)\u001b[0m\n\u001b[1;32m    908\u001b[0m     dtype_backend\u001b[39m=\u001b[39mdtype_backend,\n\u001b[1;32m    909\u001b[0m )\n\u001b[1;32m    910\u001b[0m kwds\u001b[39m.\u001b[39mupdate(kwds_defaults)\n\u001b[0;32m--> 912\u001b[0m \u001b[39mreturn\u001b[39;00m _read(filepath_or_buffer, kwds)\n",
      "File \u001b[0;32m/Library/Frameworks/Python.framework/Versions/3.11/lib/python3.11/site-packages/pandas/io/parsers/readers.py:577\u001b[0m, in \u001b[0;36m_read\u001b[0;34m(filepath_or_buffer, kwds)\u001b[0m\n\u001b[1;32m    574\u001b[0m _validate_names(kwds\u001b[39m.\u001b[39mget(\u001b[39m\"\u001b[39m\u001b[39mnames\u001b[39m\u001b[39m\"\u001b[39m, \u001b[39mNone\u001b[39;00m))\n\u001b[1;32m    576\u001b[0m \u001b[39m# Create the parser.\u001b[39;00m\n\u001b[0;32m--> 577\u001b[0m parser \u001b[39m=\u001b[39m TextFileReader(filepath_or_buffer, \u001b[39m*\u001b[39;49m\u001b[39m*\u001b[39;49mkwds)\n\u001b[1;32m    579\u001b[0m \u001b[39mif\u001b[39;00m chunksize \u001b[39mor\u001b[39;00m iterator:\n\u001b[1;32m    580\u001b[0m     \u001b[39mreturn\u001b[39;00m parser\n",
      "File \u001b[0;32m/Library/Frameworks/Python.framework/Versions/3.11/lib/python3.11/site-packages/pandas/io/parsers/readers.py:1407\u001b[0m, in \u001b[0;36mTextFileReader.__init__\u001b[0;34m(self, f, engine, **kwds)\u001b[0m\n\u001b[1;32m   1404\u001b[0m     \u001b[39mself\u001b[39m\u001b[39m.\u001b[39moptions[\u001b[39m\"\u001b[39m\u001b[39mhas_index_names\u001b[39m\u001b[39m\"\u001b[39m] \u001b[39m=\u001b[39m kwds[\u001b[39m\"\u001b[39m\u001b[39mhas_index_names\u001b[39m\u001b[39m\"\u001b[39m]\n\u001b[1;32m   1406\u001b[0m \u001b[39mself\u001b[39m\u001b[39m.\u001b[39mhandles: IOHandles \u001b[39m|\u001b[39m \u001b[39mNone\u001b[39;00m \u001b[39m=\u001b[39m \u001b[39mNone\u001b[39;00m\n\u001b[0;32m-> 1407\u001b[0m \u001b[39mself\u001b[39m\u001b[39m.\u001b[39m_engine \u001b[39m=\u001b[39m \u001b[39mself\u001b[39;49m\u001b[39m.\u001b[39;49m_make_engine(f, \u001b[39mself\u001b[39;49m\u001b[39m.\u001b[39;49mengine)\n",
      "File \u001b[0;32m/Library/Frameworks/Python.framework/Versions/3.11/lib/python3.11/site-packages/pandas/io/parsers/readers.py:1661\u001b[0m, in \u001b[0;36mTextFileReader._make_engine\u001b[0;34m(self, f, engine)\u001b[0m\n\u001b[1;32m   1659\u001b[0m     \u001b[39mif\u001b[39;00m \u001b[39m\"\u001b[39m\u001b[39mb\u001b[39m\u001b[39m\"\u001b[39m \u001b[39mnot\u001b[39;00m \u001b[39min\u001b[39;00m mode:\n\u001b[1;32m   1660\u001b[0m         mode \u001b[39m+\u001b[39m\u001b[39m=\u001b[39m \u001b[39m\"\u001b[39m\u001b[39mb\u001b[39m\u001b[39m\"\u001b[39m\n\u001b[0;32m-> 1661\u001b[0m \u001b[39mself\u001b[39m\u001b[39m.\u001b[39mhandles \u001b[39m=\u001b[39m get_handle(\n\u001b[1;32m   1662\u001b[0m     f,\n\u001b[1;32m   1663\u001b[0m     mode,\n\u001b[1;32m   1664\u001b[0m     encoding\u001b[39m=\u001b[39;49m\u001b[39mself\u001b[39;49m\u001b[39m.\u001b[39;49moptions\u001b[39m.\u001b[39;49mget(\u001b[39m\"\u001b[39;49m\u001b[39mencoding\u001b[39;49m\u001b[39m\"\u001b[39;49m, \u001b[39mNone\u001b[39;49;00m),\n\u001b[1;32m   1665\u001b[0m     compression\u001b[39m=\u001b[39;49m\u001b[39mself\u001b[39;49m\u001b[39m.\u001b[39;49moptions\u001b[39m.\u001b[39;49mget(\u001b[39m\"\u001b[39;49m\u001b[39mcompression\u001b[39;49m\u001b[39m\"\u001b[39;49m, \u001b[39mNone\u001b[39;49;00m),\n\u001b[1;32m   1666\u001b[0m     memory_map\u001b[39m=\u001b[39;49m\u001b[39mself\u001b[39;49m\u001b[39m.\u001b[39;49moptions\u001b[39m.\u001b[39;49mget(\u001b[39m\"\u001b[39;49m\u001b[39mmemory_map\u001b[39;49m\u001b[39m\"\u001b[39;49m, \u001b[39mFalse\u001b[39;49;00m),\n\u001b[1;32m   1667\u001b[0m     is_text\u001b[39m=\u001b[39;49mis_text,\n\u001b[1;32m   1668\u001b[0m     errors\u001b[39m=\u001b[39;49m\u001b[39mself\u001b[39;49m\u001b[39m.\u001b[39;49moptions\u001b[39m.\u001b[39;49mget(\u001b[39m\"\u001b[39;49m\u001b[39mencoding_errors\u001b[39;49m\u001b[39m\"\u001b[39;49m, \u001b[39m\"\u001b[39;49m\u001b[39mstrict\u001b[39;49m\u001b[39m\"\u001b[39;49m),\n\u001b[1;32m   1669\u001b[0m     storage_options\u001b[39m=\u001b[39;49m\u001b[39mself\u001b[39;49m\u001b[39m.\u001b[39;49moptions\u001b[39m.\u001b[39;49mget(\u001b[39m\"\u001b[39;49m\u001b[39mstorage_options\u001b[39;49m\u001b[39m\"\u001b[39;49m, \u001b[39mNone\u001b[39;49;00m),\n\u001b[1;32m   1670\u001b[0m )\n\u001b[1;32m   1671\u001b[0m \u001b[39massert\u001b[39;00m \u001b[39mself\u001b[39m\u001b[39m.\u001b[39mhandles \u001b[39mis\u001b[39;00m \u001b[39mnot\u001b[39;00m \u001b[39mNone\u001b[39;00m\n\u001b[1;32m   1672\u001b[0m f \u001b[39m=\u001b[39m \u001b[39mself\u001b[39m\u001b[39m.\u001b[39mhandles\u001b[39m.\u001b[39mhandle\n",
      "File \u001b[0;32m/Library/Frameworks/Python.framework/Versions/3.11/lib/python3.11/site-packages/pandas/io/common.py:859\u001b[0m, in \u001b[0;36mget_handle\u001b[0;34m(path_or_buf, mode, encoding, compression, memory_map, is_text, errors, storage_options)\u001b[0m\n\u001b[1;32m    854\u001b[0m \u001b[39melif\u001b[39;00m \u001b[39misinstance\u001b[39m(handle, \u001b[39mstr\u001b[39m):\n\u001b[1;32m    855\u001b[0m     \u001b[39m# Check whether the filename is to be opened in binary mode.\u001b[39;00m\n\u001b[1;32m    856\u001b[0m     \u001b[39m# Binary mode does not support 'encoding' and 'newline'.\u001b[39;00m\n\u001b[1;32m    857\u001b[0m     \u001b[39mif\u001b[39;00m ioargs\u001b[39m.\u001b[39mencoding \u001b[39mand\u001b[39;00m \u001b[39m\"\u001b[39m\u001b[39mb\u001b[39m\u001b[39m\"\u001b[39m \u001b[39mnot\u001b[39;00m \u001b[39min\u001b[39;00m ioargs\u001b[39m.\u001b[39mmode:\n\u001b[1;32m    858\u001b[0m         \u001b[39m# Encoding\u001b[39;00m\n\u001b[0;32m--> 859\u001b[0m         handle \u001b[39m=\u001b[39m \u001b[39mopen\u001b[39m(\n\u001b[1;32m    860\u001b[0m             handle,\n\u001b[1;32m    861\u001b[0m             ioargs\u001b[39m.\u001b[39mmode,\n\u001b[1;32m    862\u001b[0m             encoding\u001b[39m=\u001b[39mioargs\u001b[39m.\u001b[39mencoding,\n\u001b[1;32m    863\u001b[0m             errors\u001b[39m=\u001b[39merrors,\n\u001b[1;32m    864\u001b[0m             newline\u001b[39m=\u001b[39m\u001b[39m\"\u001b[39m\u001b[39m\"\u001b[39m,\n\u001b[1;32m    865\u001b[0m         )\n\u001b[1;32m    866\u001b[0m     \u001b[39melse\u001b[39;00m:\n\u001b[1;32m    867\u001b[0m         \u001b[39m# Binary mode\u001b[39;00m\n\u001b[1;32m    868\u001b[0m         handle \u001b[39m=\u001b[39m \u001b[39mopen\u001b[39m(handle, ioargs\u001b[39m.\u001b[39mmode)\n",
      "\u001b[0;31mFileNotFoundError\u001b[0m: [Errno 2] No such file or directory: 'data/peliculas.csv'"
     ]
    }
   ],
   "source": [
    "from personas import Personas, PERSONAS_CSV_ROUTE\n",
    "from peliculas import Pelicula, PELICULAS_CSV_ROUTE\n",
    "from trabajadores import Trabajadores, TRABAJADORES_CSV_ROUTE\n",
    "from users import UserManagement, USERS_CSV_ROUTE\n",
    "from scores import Scores, SCORES_CSV_ROUTE\n",
    "from load import load_all\n",
    "\n",
    "# Cargar todos los datos y chequea consistencia\n",
    "df_personas, df_trabajadores, df_usuarios, df_peliculas, df_scores = load_all(PERSONAS_CSV_ROUTE, TRABAJADORES_CSV_ROUTE, USERS_CSV_ROUTE, PELICULAS_CSV_ROUTE, SCORES_CSV_ROUTE)\n"
   ]
  },
  {
   "attachments": {},
   "cell_type": "markdown",
   "metadata": {},
   "source": [
    "# CLASE PERSONAS"
   ]
  },
  {
   "attachments": {},
   "cell_type": "markdown",
   "metadata": {},
   "source": [
    "*CREATE_DF_FROM_CSV*"
   ]
  },
  {
   "cell_type": "code",
   "execution_count": 27,
   "metadata": {},
   "outputs": [
    {
     "name": "stdout",
     "output_type": "stream",
     "text": [
      "   id          Full Name  year of birth Gender Zip Code\n",
      "0   1     Robert Stanley           1974      M    85711\n",
      "1   2     Heather Bossey           1945      F    94043\n",
      "2   3          Don Davis           1975      M    32067\n",
      "3   4    Daniel Mccauley           1974      M    43537\n",
      "4   5  Janice Mccullough           1965      F    15213\n"
     ]
    }
   ],
   "source": [
    "df_personas = Personas.create_df_from_csv(PERSONAS_CSV_ROUTE)\n",
    "\n",
    "print(df_personas.head())"
   ]
  },
  {
   "attachments": {},
   "cell_type": "markdown",
   "metadata": {},
   "source": [
    "*GET_FROM_DF*"
   ]
  },
  {
   "cell_type": "code",
   "execution_count": 16,
   "metadata": {},
   "outputs": [
    {
     "data": {
      "text/html": [
       "<div>\n",
       "<style scoped>\n",
       "    .dataframe tbody tr th:only-of-type {\n",
       "        vertical-align: middle;\n",
       "    }\n",
       "\n",
       "    .dataframe tbody tr th {\n",
       "        vertical-align: top;\n",
       "    }\n",
       "\n",
       "    .dataframe thead th {\n",
       "        text-align: right;\n",
       "    }\n",
       "</style>\n",
       "<table border=\"1\" class=\"dataframe\">\n",
       "  <thead>\n",
       "    <tr style=\"text-align: right;\">\n",
       "      <th></th>\n",
       "      <th>id</th>\n",
       "      <th>Full Name</th>\n",
       "      <th>year of birth</th>\n",
       "      <th>Gender</th>\n",
       "      <th>Zip Code</th>\n",
       "    </tr>\n",
       "  </thead>\n",
       "  <tbody>\n",
       "    <tr>\n",
       "      <th>0</th>\n",
       "      <td>1</td>\n",
       "      <td>Robert Stanley</td>\n",
       "      <td>1974</td>\n",
       "      <td>M</td>\n",
       "      <td>85711</td>\n",
       "    </tr>\n",
       "  </tbody>\n",
       "</table>\n",
       "</div>"
      ],
      "text/plain": [
       "   id       Full Name  year of birth Gender Zip Code\n",
       "0   1  Robert Stanley           1974      M    85711"
      ]
     },
     "execution_count": 16,
     "metadata": {},
     "output_type": "execute_result"
    }
   ],
   "source": [
    "Personas.get_from_df(df_personas, 1)"
   ]
  },
  {
   "attachments": {},
   "cell_type": "markdown",
   "metadata": {},
   "source": [
    "*GET_STATS*"
   ]
  },
  {
   "cell_type": "code",
   "execution_count": 64,
   "metadata": {},
   "outputs": [
    {
     "name": "stdout",
     "output_type": "stream",
     "text": [
      "Cantidad total de personas segun busqueda: 36\n",
      "Cantidad total de personas segun busqueda: 943\n"
     ]
    },
    {
     "data": {
      "image/png": "[encoded data removed]",
      "text/plain": [
       "<Figure size 640x480 with 1 Axes>"
      ]
     },
     "metadata": {},
     "output_type": "display_data"
    }
   ],
   "source": [
    "Personas.get_stats(df_personas, anios=53)\n",
    "Personas.get_stats(df_personas)"
   ]
  },
  {
   "attachments": {},
   "cell_type": "markdown",
   "metadata": {},
   "source": [
    "*METODO WRITE_DF*"
   ]
  },
  {
   "cell_type": "code",
   "execution_count": 7,
   "metadata": {},
   "outputs": [
    {
     "name": "stdout",
     "output_type": "stream",
     "text": [
      "id                 944\n",
      "Full Name         Juan\n",
      "year of birth       24\n",
      "Gender               M\n",
      "Zip Code         B1713\n",
      "Name: 943, dtype: object\n",
      "Se ha creado el registro en personas.\n",
      "id                 945\n",
      "Full Name         Juan\n",
      "year of birth       24\n",
      "Gender               M\n",
      "Zip Code         B1713\n",
      "Name: 944, dtype: object\n"
     ]
    }
   ],
   "source": [
    "from datetime import datetime\n",
    "\n",
    "print(df_personas.iloc[-1])\n",
    "\n",
    "p1 = Personas(\n",
    "    fecha_nacimiento= datetime(1999, 1, 1),\n",
    "    nombre = 'Juan',\n",
    "    genero='M',\n",
    "    codigo_postal='B1713'\n",
    ")\n",
    "\n",
    "p1.write_df(df_personas)\n",
    "\n",
    "print(df_personas.iloc[-1])\n"
   ]
  },
  {
   "attachments": {},
   "cell_type": "markdown",
   "metadata": {},
   "source": [
    "*REMOVE_FROM_DF*"
   ]
  },
  {
   "cell_type": "code",
   "execution_count": 31,
   "metadata": {},
   "outputs": [
    {
     "name": "stdout",
     "output_type": "stream",
     "text": [
      "id                          943\n",
      "Full Name        Dannie Cintron\n",
      "year of birth              1976\n",
      "Gender                        M\n",
      "Zip Code                  77841\n",
      "Name: 942, dtype: object\n",
      "No se ha encontrado el registro de personas.\n",
      "id                          943\n",
      "Full Name        Dannie Cintron\n",
      "year of birth              1976\n",
      "Gender                        M\n",
      "Zip Code                  77841\n",
      "Name: 942, dtype: object\n"
     ]
    }
   ],
   "source": [
    "print(df_personas.iloc[-1])\n",
    "\n",
    "p1 = Personas(\n",
    "    fecha_nacimiento= datetime(1999, 1, 1),\n",
    "    nombre = 'Juan',\n",
    "    genero='M',\n",
    "    codigo_postal='B1713',\n",
    "    id=944\n",
    ")\n",
    "\n",
    "try:\n",
    "    p1.remove_from_df(df_personas)\n",
    "except Exception as e:\n",
    "    print(e)\n",
    "\n",
    "print(df_personas.iloc[-1])"
   ]
  },
  {
   "attachments": {},
   "cell_type": "markdown",
   "metadata": {},
   "source": [
    "# CLASE TRABAJADORES"
   ]
  },
  {
   "attachments": {},
   "cell_type": "markdown",
   "metadata": {},
   "source": [
    "*CREATE_DF_FROM_CSV*"
   ]
  },
  {
   "cell_type": "code",
   "execution_count": 21,
   "metadata": {},
   "outputs": [
    {
     "name": "stdout",
     "output_type": "stream",
     "text": [
      "    id Position Category Working Hours Start Date\n",
      "0   16  Analyst        B        9 - 18 1998-03-30\n",
      "1   31  Analyst        A        9 - 18 1997-09-25\n",
      "2  167  Analyst        B        7 - 16 1997-10-24\n",
      "3  183  Analyst        C       20 - 04 1998-01-26\n",
      "4  298  Analyst        C        9 - 18 1997-10-18\n"
     ]
    }
   ],
   "source": [
    "df_trabajadores = Trabajadores.create_df_from_csv(TRABAJADORES_CSV_ROUTE)\n",
    "\n",
    "print(df_trabajadores.head())"
   ]
  },
  {
   "attachments": {},
   "cell_type": "markdown",
   "metadata": {},
   "source": [
    "*GET_FROM_DF*"
   ]
  },
  {
   "cell_type": "code",
   "execution_count": 91,
   "metadata": {},
   "outputs": [
    {
     "name": "stdout",
     "output_type": "stream",
     "text": [
      "    id Position Category Working Hours Start Date\n",
      "0   16  Analyst        B        9 - 18 1998-03-30\n",
      "1   31  Analyst        A        9 - 18 1997-09-25\n",
      "2  167  Analyst        B        7 - 16 1997-10-24\n",
      "3  183  Analyst        C       20 - 04 1998-01-26\n",
      "4  298  Analyst        C        9 - 18 1997-10-18\n",
      "5  358  Analyst        A        7 - 16 1998-04-17\n",
      "6  397  Analyst        B        7 - 16 1998-02-08\n"
     ]
    }
   ],
   "source": [
    "print(Trabajadores.get_from_df(df_trabajadores, puesto='Analyst'))"
   ]
  },
  {
   "attachments": {},
   "cell_type": "markdown",
   "metadata": {},
   "source": [
    "*GET_STATS*"
   ]
  },
  {
   "attachments": {},
   "cell_type": "markdown",
   "metadata": {},
   "source": []
  },
  {
   "cell_type": "code",
   "execution_count": 22,
   "metadata": {},
   "outputs": [
    {
     "name": "stdout",
     "output_type": "stream",
     "text": [
      "Cantidad de trabajadores: 15\n"
     ]
    },
    {
     "data": {
      "image/png": "[encoded data removed]",
      "text/plain": [
       "<Figure size 1000x600 with 1 Axes>"
      ]
     },
     "metadata": {},
     "output_type": "display_data"
    }
   ],
   "source": [
    "Trabajadores.get_stats(df_trabajadores,)"
   ]
  },
  {
   "attachments": {},
   "cell_type": "markdown",
   "metadata": {},
   "source": [
    "*WRITE_DF*"
   ]
  },
  {
   "cell_type": "code",
   "execution_count": 46,
   "metadata": {},
   "outputs": [
    {
     "name": "stdout",
     "output_type": "stream",
     "text": [
      " id                               872\n",
      "Position                          IT\n",
      "Category                           C\n",
      "Working Hours                 9 - 18\n",
      "Start Date       1997-11-14 00:00:00\n",
      "Name: 14, dtype: object \n",
      "\n",
      "Se ha creado el registro en trabajadores.\n",
      "\n",
      "  id                               944\n",
      "Position                          IT\n",
      "Category                           A\n",
      "Working Hours                   9-18\n",
      "Start Date       1995-01-01 00:00:00\n",
      "Name: 15, dtype: object \n"
     ]
    }
   ],
   "source": [
    "from datetime import datetime\n",
    "print(f' {df_trabajadores.iloc[-1]} \\n')\n",
    "t = Trabajadores(\n",
    "    fecha_alta= datetime(1995, 1, 1),\n",
    "    categoria='A',\n",
    "    puesto='IT',\n",
    "    horario_trabajo='9-18',\n",
    "    id=944,\n",
    "    fecha_nacimiento= datetime(1999, 1, 1),\n",
    "    nombre = 'Juan',\n",
    "    genero='M',\n",
    "    codigo_postal='B1713'\n",
    ")\n",
    "\n",
    "try:\n",
    "    t.write_df(df_trabajadores)\n",
    "except Exception as e:\n",
    "    print(e)\n",
    "\n",
    "print(f'\\n  {df_trabajadores.iloc[-1]} ')\n"
   ]
  },
  {
   "attachments": {},
   "cell_type": "markdown",
   "metadata": {},
   "source": [
    "*REMOVE_FROM_DF*"
   ]
  },
  {
   "cell_type": "code",
   "execution_count": 47,
   "metadata": {},
   "outputs": [
    {
     "name": "stdout",
     "output_type": "stream",
     "text": [
      " id                               944\n",
      "Position                          IT\n",
      "Category                           A\n",
      "Working Hours                   9-18\n",
      "Start Date       1995-01-01 00:00:00\n",
      "Name: 15, dtype: object \n",
      "\n",
      "Se ha eliminado el registro del trabajador.\n",
      "\n",
      "  id                               872\n",
      "Position                          IT\n",
      "Category                           C\n",
      "Working Hours                 9 - 18\n",
      "Start Date       1997-11-14 00:00:00\n",
      "Name: 14, dtype: object \n"
     ]
    }
   ],
   "source": [
    "from datetime import datetime\n",
    "\n",
    "print(f' {df_trabajadores.iloc[-1]} \\n')\n",
    "\n",
    "t = Trabajadores(\n",
    "    fecha_alta= datetime(1995, 1, 1),\n",
    "    categoria='A',\n",
    "    puesto='IT',\n",
    "    horario_trabajo='9-18',\n",
    "    id=944,\n",
    "    fecha_nacimiento= datetime(1999, 1, 1),\n",
    "    nombre = 'Juan',\n",
    "    genero='M',\n",
    "    codigo_postal='B1713'\n",
    ")\n",
    "\n",
    "try:\n",
    "    t.remove_from_df(df_trabajadores)\n",
    "except Exception as e:\n",
    "    print(e)\n",
    "    \n",
    "print(f'\\n  {df_trabajadores.iloc[-1]} ')"
   ]
  },
  {
   "attachments": {},
   "cell_type": "markdown",
   "metadata": {},
   "source": [
    "# CLASE USUARIOS"
   ]
  },
  {
   "attachments": {},
   "cell_type": "markdown",
   "metadata": {},
   "source": [
    "*CREATE_DF_FROM_CSV*"
   ]
  },
  {
   "cell_type": "code",
   "execution_count": 7,
   "metadata": {},
   "outputs": [
    {
     "name": "stdout",
     "output_type": "stream",
     "text": [
      "   id  Occupation Active Since\n",
      "0   1  technician   1997-09-22\n",
      "1   2       other   1998-02-27\n",
      "2   3      writer   1998-03-07\n",
      "3   4  technician   1998-04-08\n",
      "4   5       other   1997-09-30\n"
     ]
    }
   ],
   "source": [
    "df_users = UserManagement.create_df_from_csv(USERS_CSV_ROUTE)\n",
    "\n",
    "print(df_users.head())"
   ]
  },
  {
   "attachments": {},
   "cell_type": "markdown",
   "metadata": {},
   "source": [
    "*GET_FROM_DF*"
   ]
  },
  {
   "cell_type": "code",
   "execution_count": 55,
   "metadata": {},
   "outputs": [
    {
     "data": {
      "text/html": [
       "<div>\n",
       "<style scoped>\n",
       "    .dataframe tbody tr th:only-of-type {\n",
       "        vertical-align: middle;\n",
       "    }\n",
       "\n",
       "    .dataframe tbody tr th {\n",
       "        vertical-align: top;\n",
       "    }\n",
       "\n",
       "    .dataframe thead th {\n",
       "        text-align: right;\n",
       "    }\n",
       "</style>\n",
       "<table border=\"1\" class=\"dataframe\">\n",
       "  <thead>\n",
       "    <tr style=\"text-align: right;\">\n",
       "      <th></th>\n",
       "      <th>id</th>\n",
       "      <th>Occupation</th>\n",
       "      <th>Active Since</th>\n",
       "    </tr>\n",
       "  </thead>\n",
       "  <tbody>\n",
       "    <tr>\n",
       "      <th>43</th>\n",
       "      <td>44</td>\n",
       "      <td>technician</td>\n",
       "      <td>1997-10-31</td>\n",
       "    </tr>\n",
       "  </tbody>\n",
       "</table>\n",
       "</div>"
      ],
      "text/plain": [
       "    id  Occupation Active Since\n",
       "43  44  technician   1997-10-31"
      ]
     },
     "execution_count": 55,
     "metadata": {},
     "output_type": "execute_result"
    }
   ],
   "source": [
    "\n",
    "UserManagement.get_from_df(df_users, occupation='technician', id=44)"
   ]
  },
  {
   "attachments": {},
   "cell_type": "markdown",
   "metadata": {},
   "source": [
    "*GET_STATS*"
   ]
  },
  {
   "cell_type": "code",
   "execution_count": 60,
   "metadata": {},
   "outputs": [
    {
     "name": "stdout",
     "output_type": "stream",
     "text": [
      "Cantidad total de usuarios: 928\n",
      "\n",
      "Cantidad de usuarios por ocupación:\n",
      "Occupation\n",
      "student          193\n",
      "other            102\n",
      "educator          94\n",
      "administrator     77\n",
      "engineer          67\n",
      "programmer        65\n",
      "librarian         51\n",
      "writer            45\n",
      "executive         31\n",
      "scientist         30\n",
      "artist            27\n",
      "technician        27\n",
      "marketing         25\n",
      "entertainment     17\n",
      "healthcare        16\n",
      "retired           14\n",
      "lawyer            12\n",
      "salesman          12\n",
      "none               9\n",
      "homemaker          7\n",
      "doctor             7\n",
      "Name: count, dtype: int64\n"
     ]
    }
   ],
   "source": [
    "UserManagement.get_stats(df_users, occupations='technician')"
   ]
  },
  {
   "attachments": {},
   "cell_type": "markdown",
   "metadata": {},
   "source": [
    "*WRITE_DF*"
   ]
  },
  {
   "cell_type": "code",
   "execution_count": 31,
   "metadata": {},
   "outputs": [
    {
     "name": "stdout",
     "output_type": "stream",
     "text": [
      "El usuario con ID 944 ha sido creado.\n"
     ]
    }
   ],
   "source": [
    "user_manager = UserManagement(\n",
    "    nombre='John Doe',\n",
    "    fecha_nacimiento='1990-05-15',\n",
    "    genero='M',\n",
    "    codigo_postal='12345',\n",
    "    dataframe=df_users,  # DataFrame existente\n",
    "    csv_filename=USERS_CSV_ROUTE  # Nombre del archivo CSV\n",
    ")\n",
    "\n",
    "user_manager.add_user(id = 944, occupation='technician', active_since='2020-01-01')"
   ]
  },
  {
   "attachments": {},
   "cell_type": "markdown",
   "metadata": {},
   "source": [
    "*REMOVE_FROM_DF*"
   ]
  },
  {
   "cell_type": "code",
   "execution_count": 38,
   "metadata": {},
   "outputs": [
    {
     "ename": "ValueError",
     "evalue": "No se encontró el usuario en el DataFrame.",
     "output_type": "error",
     "traceback": [
      "\u001b[0;31m---------------------------------------------------------------------------\u001b[0m",
      "\u001b[0;31mValueError\u001b[0m                                Traceback (most recent call last)",
      "Cell \u001b[0;32mIn[38], line 11\u001b[0m\n\u001b[1;32m      1\u001b[0m user_manager \u001b[39m=\u001b[39m UserManagement(\n\u001b[1;32m      2\u001b[0m     nombre\u001b[39m=\u001b[39m\u001b[39m'\u001b[39m\u001b[39mJohn Doe\u001b[39m\u001b[39m'\u001b[39m,\n\u001b[1;32m      3\u001b[0m     fecha_nacimiento\u001b[39m=\u001b[39m\u001b[39m'\u001b[39m\u001b[39m1990-05-15\u001b[39m\u001b[39m'\u001b[39m,\n\u001b[0;32m   (...)\u001b[0m\n\u001b[1;32m      8\u001b[0m     \u001b[39mid\u001b[39m\u001b[39m=\u001b[39m\u001b[39m944\u001b[39m\n\u001b[1;32m      9\u001b[0m )\n\u001b[0;32m---> 11\u001b[0m user_manager\u001b[39m.\u001b[39;49mremove_from_df(df_users)\n",
      "File \u001b[0;32m~/Desktop/ITBA/Deep Learning/tp-deep-learning/controllers/users.py:111\u001b[0m, in \u001b[0;36mUserManagement.remove_from_df\u001b[0;34m(self, df)\u001b[0m\n\u001b[1;32m    108\u001b[0m matching_rows \u001b[39m=\u001b[39m df[df[\u001b[39m'\u001b[39m\u001b[39mid\u001b[39m\u001b[39m'\u001b[39m] \u001b[39m==\u001b[39m \u001b[39mself\u001b[39m\u001b[39m.\u001b[39mid]\n\u001b[1;32m    110\u001b[0m \u001b[39mif\u001b[39;00m matching_rows\u001b[39m.\u001b[39mempty:\n\u001b[0;32m--> 111\u001b[0m     \u001b[39mraise\u001b[39;00m \u001b[39mValueError\u001b[39;00m(\u001b[39m\"\u001b[39m\u001b[39mNo se encontró el usuario en el DataFrame.\u001b[39m\u001b[39m\"\u001b[39m)\n\u001b[1;32m    113\u001b[0m df \u001b[39m=\u001b[39m df\u001b[39m.\u001b[39mdrop(matching_rows\u001b[39m.\u001b[39mindex)\n\u001b[1;32m    114\u001b[0m \u001b[39mreturn\u001b[39;00m df\n",
      "\u001b[0;31mValueError\u001b[0m: No se encontró el usuario en el DataFrame."
     ]
    }
   ],
   "source": [
    "user_manager = UserManagement(\n",
    "    nombre='John Doe',\n",
    "    fecha_nacimiento='1990-05-15',\n",
    "    genero='M',\n",
    "    codigo_postal='12345',\n",
    "    dataframe=df_users,  # DataFrame existente\n",
    "    csv_filename=USERS_CSV_ROUTE,  # Nombre del archivo CSV\n",
    "    id=944\n",
    ")\n",
    "\n",
    "user_manager.remove_from_df(df_users)\n"
   ]
  }
 ],
 "metadata": {
  "kernelspec": {
   "display_name": "Python 3",
   "language": "python",
   "name": "python3"
  },
  "language_info": {
   "codemirror_mode": {
    "name": "ipython",
    "version": 3
   },
   "file_extension": ".py",
   "mimetype": "text/x-python",
   "name": "python",
   "nbconvert_exporter": "python",
   "pygments_lexer": "ipython3",
   "version": "3.11.4"
  },
  "orig_nbformat": 4
 },
 "nbformat": 4,
 "nbformat_minor": 2
}
