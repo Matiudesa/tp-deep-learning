{
 "cells": [
  {
   "attachments": {},
   "cell_type": "markdown",
   "metadata": {},
   "source": [
    "*DEMOSTRACION DE TP INTEGRADOR*\n",
    "\n",
    "\n",
    "Importamos todos los modulos, cargamos los dataframes y chequeamos consistencia."
   ]
  },
  {
   "attachments": {},
   "cell_type": "markdown",
   "metadata": {
    "collapsed": false
   },
   "source": [
    "# LLAMADO AL METODO DE CARGA LOAD_ALL()"
   ]
  },
  {
   "cell_type": "code",
   "execution_count": 1,
   "metadata": {
    "ExecuteTime": {
     "end_time": "2023-06-29T15:26:40.679751Z",
     "start_time": "2023-06-29T15:26:40.664887Z"
    }
   },
   "outputs": [
    {
     "name": "stdout",
     "output_type": "stream",
     "text": [
      "Checking consistency.....\n",
      "Dataframe Personas-Trabajadores checked ✅\n",
      "Dataframe Personas-usuarios checked ✅\n",
      "Dataframe Peliculas-Scores checked ✅\n",
      "Dataframe Usuarios-Scores checked ✅\n",
      "Consistency checked\n"
     ]
    }
   ],
   "source": [
    "from personas import Personas, PERSONAS_CSV_ROUTE\n",
    "from peliculas import Pelicula, PELICULAS_CSV_ROUTE\n",
    "from trabajadores import Trabajadores, TRABAJADORES_CSV_ROUTE\n",
    "from users import UserManagement, USERS_CSV_ROUTE\n",
    "from scores import Scores, SCORES_CSV_ROUTE\n",
    "from save import save_all, save_backup\n",
    "from load import load_all\n",
    "\n",
    "# Cargar todos los datos y chequea consistencia\n",
    "df_personas, df_trabajadores, df_usuarios, df_peliculas, df_scores = load_all(PERSONAS_CSV_ROUTE, TRABAJADORES_CSV_ROUTE, USERS_CSV_ROUTE, PELICULAS_CSV_ROUTE, SCORES_CSV_ROUTE)\n"
   ]
  },
  {
   "attachments": {},
   "cell_type": "markdown",
   "metadata": {},
   "source": [
    "# CLASE PERSONAS"
   ]
  },
  {
   "attachments": {},
   "cell_type": "markdown",
   "metadata": {},
   "source": [
    "*CREATE_DF_FROM_CSV*"
   ]
  },
  {
   "cell_type": "code",
   "execution_count": 6,
   "metadata": {},
   "outputs": [
    {
     "name": "stdout",
     "output_type": "stream",
     "text": [
      "   id          Full Name  year of birth Gender Zip Code\n",
      "0   1     Robert Stanley           1974      M    85711\n",
      "1   2     Heather Bossey           1945      F    94043\n",
      "2   3          Don Davis           1975      M    32067\n",
      "3   4    Daniel Mccauley           1974      M    43537\n",
      "4   5  Janice Mccullough           1965      F    15213\n"
     ]
    }
   ],
   "source": [
    "df_personas = Personas.create_df_from_csv(PERSONAS_CSV_ROUTE)\n",
    "\n",
    "print(df_personas.head())"
   ]
  },
  {
   "attachments": {},
   "cell_type": "markdown",
   "metadata": {},
   "source": [
    "*GET_FROM_DF*"
   ]
  },
  {
   "cell_type": "code",
   "execution_count": 7,
   "metadata": {},
   "outputs": [
    {
     "data": {
      "text/html": [
       "<div>\n",
       "<style scoped>\n",
       "    .dataframe tbody tr th:only-of-type {\n",
       "        vertical-align: middle;\n",
       "    }\n",
       "\n",
       "    .dataframe tbody tr th {\n",
       "        vertical-align: top;\n",
       "    }\n",
       "\n",
       "    .dataframe thead th {\n",
       "        text-align: right;\n",
       "    }\n",
       "</style>\n",
       "<table border=\"1\" class=\"dataframe\">\n",
       "  <thead>\n",
       "    <tr style=\"text-align: right;\">\n",
       "      <th></th>\n",
       "      <th>id</th>\n",
       "      <th>Full Name</th>\n",
       "      <th>year of birth</th>\n",
       "      <th>Gender</th>\n",
       "      <th>Zip Code</th>\n",
       "    </tr>\n",
       "  </thead>\n",
       "  <tbody>\n",
       "    <tr>\n",
       "      <th>11</th>\n",
       "      <td>12</td>\n",
       "      <td>Lea Cascio</td>\n",
       "      <td>1970</td>\n",
       "      <td>F</td>\n",
       "      <td>06405</td>\n",
       "    </tr>\n",
       "  </tbody>\n",
       "</table>\n",
       "</div>"
      ],
      "text/plain": [
       "    id   Full Name  year of birth Gender Zip Code\n",
       "11  12  Lea Cascio           1970      F    06405"
      ]
     },
     "execution_count": 7,
     "metadata": {},
     "output_type": "execute_result"
    }
   ],
   "source": [
    "Personas.get_from_df(df_personas, 12)"
   ]
  },
  {
   "attachments": {},
   "cell_type": "markdown",
   "metadata": {},
   "source": [
    "*GET_STATS*"
   ]
  },
  {
   "cell_type": "code",
   "execution_count": 3,
   "metadata": {},
   "outputs": [
    {
     "name": "stdout",
     "output_type": "stream",
     "text": [
      "Cantidad total de personas segun busqueda: 12\n",
      "Cantidad total de personas segun busqueda: 943\n"
     ]
    },
    {
     "data": {
      "image/png": "[encoded data removed]",
      "text/plain": [
       "<Figure size 640x480 with 1 Axes>"
      ]
     },
     "metadata": {},
     "output_type": "display_data"
    }
   ],
   "source": [
    "Personas.get_stats(df_personas, anios=54, generos='F')\n",
    "#CON GRAFICO\n",
    "Personas.get_stats(df_personas)\n"
   ]
  },
  {
   "attachments": {},
   "cell_type": "markdown",
   "metadata": {},
   "source": [
    "*METODO WRITE_DF*"
   ]
  },
  {
   "cell_type": "code",
   "execution_count": 7,
   "metadata": {},
   "outputs": [
    {
     "name": "stdout",
     "output_type": "stream",
     "text": [
      "id                 944\n",
      "Full Name         Juan\n",
      "year of birth       24\n",
      "Gender               M\n",
      "Zip Code         B1713\n",
      "Name: 943, dtype: object\n",
      "Se ha creado el registro en personas.\n",
      "id                 945\n",
      "Full Name         Juan\n",
      "year of birth       24\n",
      "Gender               M\n",
      "Zip Code         B1713\n",
      "Name: 944, dtype: object\n"
     ]
    }
   ],
   "source": [
    "from datetime import datetime\n",
    "\n",
    "print(df_personas.iloc[-1])\n",
    "\n",
    "p1 = Personas(\n",
    "    fecha_nacimiento= datetime(1999, 1, 1),\n",
    "    nombre = 'Juan',\n",
    "    genero='M',\n",
    "    codigo_postal='B1713'\n",
    ")\n",
    "\n",
    "p1.write_df(df_personas)\n",
    "\n",
    "print(df_personas.iloc[-1])\n"
   ]
  },
  {
   "attachments": {},
   "cell_type": "markdown",
   "metadata": {},
   "source": [
    "*REMOVE_FROM_DF*"
   ]
  },
  {
   "cell_type": "code",
   "execution_count": 31,
   "metadata": {},
   "outputs": [
    {
     "name": "stdout",
     "output_type": "stream",
     "text": [
      "id                          943\n",
      "Full Name        Dannie Cintron\n",
      "year of birth              1976\n",
      "Gender                        M\n",
      "Zip Code                  77841\n",
      "Name: 942, dtype: object\n",
      "No se ha encontrado el registro de personas.\n",
      "id                          943\n",
      "Full Name        Dannie Cintron\n",
      "year of birth              1976\n",
      "Gender                        M\n",
      "Zip Code                  77841\n",
      "Name: 942, dtype: object\n"
     ]
    }
   ],
   "source": [
    "print(df_personas.iloc[-1])\n",
    "\n",
    "p1 = Personas(\n",
    "    fecha_nacimiento= datetime(1999, 1, 1),\n",
    "    nombre = 'Juan',\n",
    "    genero='M',\n",
    "    codigo_postal='B1713',\n",
    "    id=944\n",
    ")\n",
    "\n",
    "try:\n",
    "    p1.remove_from_df(df_personas)\n",
    "except Exception as e:\n",
    "    print(e)\n",
    "\n",
    "print(df_personas.iloc[-1])"
   ]
  },
  {
   "attachments": {},
   "cell_type": "markdown",
   "metadata": {},
   "source": [
    "# CLASE TRABAJADORES"
   ]
  },
  {
   "attachments": {},
   "cell_type": "markdown",
   "metadata": {},
   "source": [
    "*CREATE_DF_FROM_CSV*"
   ]
  },
  {
   "cell_type": "code",
   "execution_count": 10,
   "metadata": {},
   "outputs": [
    {
     "name": "stdout",
     "output_type": "stream",
     "text": [
      "    id Position Category Working Hours Start Date\n",
      "0   16  Analyst        B        9 - 18 1998-03-30\n",
      "1   31  Analyst        A        9 - 18 1997-09-25\n",
      "2  167  Analyst        B        7 - 16 1997-10-24\n",
      "3  183  Analyst        C       20 - 04 1998-01-26\n",
      "4  298  Analyst        C        9 - 18 1997-10-18\n"
     ]
    }
   ],
   "source": [
    "df_trabajadores = Trabajadores.create_df_from_csv(TRABAJADORES_CSV_ROUTE)\n",
    "\n",
    "print(df_trabajadores.head())"
   ]
  },
  {
   "attachments": {},
   "cell_type": "markdown",
   "metadata": {},
   "source": [
    "*GET_FROM_DF*"
   ]
  },
  {
   "cell_type": "code",
   "execution_count": 11,
   "metadata": {},
   "outputs": [
    {
     "name": "stdout",
     "output_type": "stream",
     "text": [
      "    id Position Category Working Hours Start Date\n",
      "0   16  Analyst        B        9 - 18 1998-03-30\n",
      "1   31  Analyst        A        9 - 18 1997-09-25\n",
      "2  167  Analyst        B        7 - 16 1997-10-24\n",
      "3  183  Analyst        C       20 - 04 1998-01-26\n",
      "4  298  Analyst        C        9 - 18 1997-10-18\n",
      "5  358  Analyst        A        7 - 16 1998-04-17\n",
      "6  397  Analyst        B        7 - 16 1998-02-08\n"
     ]
    }
   ],
   "source": [
    "print(Trabajadores.get_from_df(df_trabajadores, puesto='Analyst'))"
   ]
  },
  {
   "attachments": {},
   "cell_type": "markdown",
   "metadata": {},
   "source": [
    "*GET_STATS*"
   ]
  },
  {
   "cell_type": "code",
   "execution_count": 17,
   "metadata": {},
   "outputs": [
    {
     "name": "stdout",
     "output_type": "stream",
     "text": [
      "Cantidad de trabajadores: 15\n"
     ]
    },
    {
     "data": {
      "image/png": "[encoded data removed]",
      "text/plain": [
       "<Figure size 1000x600 with 1 Axes>"
      ]
     },
     "metadata": {},
     "output_type": "display_data"
    }
   ],
   "source": [
    "Trabajadores.get_stats(df_trabajadores)"
   ]
  },
  {
   "attachments": {},
   "cell_type": "markdown",
   "metadata": {},
   "source": [
    "*WRITE_DF*"
   ]
  },
  {
   "cell_type": "code",
   "execution_count": 14,
   "metadata": {},
   "outputs": [
    {
     "name": "stdout",
     "output_type": "stream",
     "text": [
      " id                      872\n",
      "Position                 IT\n",
      "Category                  C\n",
      "Working Hours        9 - 18\n",
      "Start Date       1997-11-14\n",
      "Name: 14, dtype: object \n",
      "\n",
      "El ID 944 no existe en el archivo de personas.\n",
      "\n",
      "  id                      872\n",
      "Position                 IT\n",
      "Category                  C\n",
      "Working Hours        9 - 18\n",
      "Start Date       1997-11-14\n",
      "Name: 14, dtype: object \n"
     ]
    }
   ],
   "source": [
    "from datetime import datetime\n",
    "print(f' {df_trabajadores.iloc[-1]} \\n')\n",
    "t = Trabajadores(\n",
    "    fecha_alta= datetime(1995, 1, 1),\n",
    "    categoria='A',\n",
    "    puesto='IT',\n",
    "    horario_trabajo='9-18',\n",
    "    id=944,\n",
    "    fecha_nacimiento= datetime(1999, 1, 1),\n",
    "    nombre = 'Juan',\n",
    "    genero='M',\n",
    "    codigo_postal='B1713'\n",
    ")\n",
    "\n",
    "try:\n",
    "    t.write_df(df_trabajadores)\n",
    "except Exception as e:\n",
    "    print(e)\n",
    "\n",
    "print(f'\\n  {df_trabajadores.iloc[-1]} ')\n"
   ]
  },
  {
   "attachments": {},
   "cell_type": "markdown",
   "metadata": {},
   "source": [
    "*REMOVE_FROM_DF*"
   ]
  },
  {
   "cell_type": "code",
   "execution_count": 47,
   "metadata": {},
   "outputs": [
    {
     "name": "stdout",
     "output_type": "stream",
     "text": [
      " id                               944\n",
      "Position                          IT\n",
      "Category                           A\n",
      "Working Hours                   9-18\n",
      "Start Date       1995-01-01 00:00:00\n",
      "Name: 15, dtype: object \n",
      "\n",
      "Se ha eliminado el registro del trabajador.\n",
      "\n",
      "  id                               872\n",
      "Position                          IT\n",
      "Category                           C\n",
      "Working Hours                 9 - 18\n",
      "Start Date       1997-11-14 00:00:00\n",
      "Name: 14, dtype: object \n"
     ]
    }
   ],
   "source": [
    "from datetime import datetime\n",
    "\n",
    "print(f' {df_trabajadores.iloc[-1]} \\n')\n",
    "\n",
    "t = Trabajadores(\n",
    "    fecha_alta= datetime(1995, 1, 1),\n",
    "    categoria='A',\n",
    "    puesto='IT',\n",
    "    horario_trabajo='9-18',\n",
    "    id=944,\n",
    "    fecha_nacimiento= datetime(1999, 1, 1),\n",
    "    nombre = 'Juan',\n",
    "    genero='M',\n",
    "    codigo_postal='B1713'\n",
    ")\n",
    "\n",
    "try:\n",
    "    t.remove_from_df(df_trabajadores)\n",
    "except Exception as e:\n",
    "    print(e)\n",
    "    \n",
    "print(f'\\n  {df_trabajadores.iloc[-1]} ')"
   ]
  },
  {
   "attachments": {},
   "cell_type": "markdown",
   "metadata": {},
   "source": [
    "# CLASE USUARIOS"
   ]
  },
  {
   "attachments": {},
   "cell_type": "markdown",
   "metadata": {},
   "source": [
    "*CREATE_DF_FROM_CSV*"
   ]
  },
  {
   "cell_type": "code",
   "execution_count": 8,
   "metadata": {},
   "outputs": [
    {
     "name": "stdout",
     "output_type": "stream",
     "text": [
      "   id  Occupation Active Since\n",
      "0   1  technician   1997-09-22\n",
      "1   2       other   1998-02-27\n",
      "2   3      writer   1998-03-07\n",
      "3   4  technician   1998-04-08\n",
      "4   5       other   1997-09-30\n"
     ]
    }
   ],
   "source": [
    "df_users = UserManagement.create_df_from_csv(USERS_CSV_ROUTE)\n",
    "\n",
    "print(df_users.head())"
   ]
  },
  {
   "attachments": {},
   "cell_type": "markdown",
   "metadata": {},
   "source": [
    "*GET_FROM_DF*"
   ]
  },
  {
   "cell_type": "code",
   "execution_count": 14,
   "metadata": {},
   "outputs": [
    {
     "data": {
      "text/html": [
       "<div>\n",
       "<style scoped>\n",
       "    .dataframe tbody tr th:only-of-type {\n",
       "        vertical-align: middle;\n",
       "    }\n",
       "\n",
       "    .dataframe tbody tr th {\n",
       "        vertical-align: top;\n",
       "    }\n",
       "\n",
       "    .dataframe thead th {\n",
       "        text-align: right;\n",
       "    }\n",
       "</style>\n",
       "<table border=\"1\" class=\"dataframe\">\n",
       "  <thead>\n",
       "    <tr style=\"text-align: right;\">\n",
       "      <th></th>\n",
       "      <th>id</th>\n",
       "      <th>Occupation</th>\n",
       "      <th>Active Since</th>\n",
       "    </tr>\n",
       "  </thead>\n",
       "  <tbody>\n",
       "    <tr>\n",
       "      <th>43</th>\n",
       "      <td>44</td>\n",
       "      <td>technician</td>\n",
       "      <td>1997-10-31</td>\n",
       "    </tr>\n",
       "  </tbody>\n",
       "</table>\n",
       "</div>"
      ],
      "text/plain": [
       "    id  Occupation Active Since\n",
       "43  44  technician   1997-10-31"
      ]
     },
     "execution_count": 14,
     "metadata": {},
     "output_type": "execute_result"
    }
   ],
   "source": [
    "\n",
    "UserManagement.get_from_df(df_users, occupation='technician', id=44)"
   ]
  },
  {
   "attachments": {},
   "cell_type": "markdown",
   "metadata": {},
   "source": [
    "*GET_STATS*"
   ]
  },
  {
   "cell_type": "code",
   "execution_count": 9,
   "metadata": {},
   "outputs": [
    {
     "name": "stdout",
     "output_type": "stream",
     "text": [
      "Cantidad total de usuarios: 928\n",
      "\n",
      "Cantidad de usuarios por ocupación:\n",
      "Occupation\n",
      "student          193\n",
      "other            102\n",
      "educator          94\n",
      "administrator     77\n",
      "engineer          67\n",
      "programmer        65\n",
      "librarian         51\n",
      "writer            45\n",
      "executive         31\n",
      "scientist         30\n",
      "artist            27\n",
      "technician        27\n",
      "marketing         25\n",
      "entertainment     17\n",
      "healthcare        16\n",
      "retired           14\n",
      "lawyer            12\n",
      "salesman          12\n",
      "none               9\n",
      "homemaker          7\n",
      "doctor             7\n",
      "Name: count, dtype: int64\n"
     ]
    }
   ],
   "source": [
    "UserManagement.get_stats(df_users, occupations='technician')"
   ]
  },
  {
   "attachments": {},
   "cell_type": "markdown",
   "metadata": {},
   "source": [
    "*WRITE_DF*"
   ]
  },
  {
   "cell_type": "code",
   "execution_count": 31,
   "metadata": {},
   "outputs": [
    {
     "name": "stdout",
     "output_type": "stream",
     "text": [
      "El usuario con ID 944 ha sido creado.\n"
     ]
    }
   ],
   "source": [
    "user_manager = UserManagement(\n",
    "    nombre='John Doe',\n",
    "    fecha_nacimiento='1990-05-15',\n",
    "    genero='M',\n",
    "    codigo_postal='12345',\n",
    "    dataframe=df_users,  # DataFrame existente\n",
    "    csv_filename=USERS_CSV_ROUTE  # Nombre del archivo CSV\n",
    ")\n",
    "\n",
    "user_manager.add_user(id = 944, occupation='technician', active_since='2020-01-01')"
   ]
  },
  {
   "attachments": {},
   "cell_type": "markdown",
   "metadata": {},
   "source": [
    "*REMOVE_FROM_DF*"
   ]
  },
  {
   "cell_type": "code",
   "execution_count": 17,
   "metadata": {},
   "outputs": [
    {
     "name": "stdout",
     "output_type": "stream",
     "text": [
      "El usuario ha sido eliminado del DataFrame\n"
     ]
    }
   ],
   "source": [
    "user_manager = UserManagement(\n",
    "    nombre='John Doe',\n",
    "    fecha_nacimiento='1990-05-15',\n",
    "    genero='M',\n",
    "    codigo_postal='12345',\n",
    "    dataframe=df_users,  # DataFrame existente\n",
    "    csv_filename=USERS_CSV_ROUTE,  # Nombre del archivo CSV\n",
    "    id=944\n",
    ")\n",
    "try:\n",
    "    user_manager.remove_from_df(df_users)\n",
    "except Exception as e:\n",
    "    print(e)\n"
   ]
  },
  {
   "attachments": {},
   "cell_type": "markdown",
   "metadata": {},
   "source": [
    "# CLASE PELICULAS"
   ]
  },
  {
   "attachments": {},
   "cell_type": "markdown",
   "metadata": {},
   "source": [
    "*GET_FROM_DF*"
   ]
  },
  {
   "cell_type": "code",
   "execution_count": 19,
   "metadata": {},
   "outputs": [
    {
     "data": {
      "text/html": [
       "<div>\n",
       "<style scoped>\n",
       "    .dataframe tbody tr th:only-of-type {\n",
       "        vertical-align: middle;\n",
       "    }\n",
       "\n",
       "    .dataframe tbody tr th {\n",
       "        vertical-align: top;\n",
       "    }\n",
       "\n",
       "    .dataframe thead th {\n",
       "        text-align: right;\n",
       "    }\n",
       "</style>\n",
       "<table border=\"1\" class=\"dataframe\">\n",
       "  <thead>\n",
       "    <tr style=\"text-align: right;\">\n",
       "      <th></th>\n",
       "      <th>id</th>\n",
       "      <th>Name</th>\n",
       "      <th>Release Date</th>\n",
       "      <th>IMDB URL</th>\n",
       "      <th>unknown</th>\n",
       "      <th>Action</th>\n",
       "      <th>Adventure</th>\n",
       "      <th>Animation</th>\n",
       "      <th>Children's</th>\n",
       "      <th>Comedy</th>\n",
       "      <th>...</th>\n",
       "      <th>Fantasy</th>\n",
       "      <th>Film-Noir</th>\n",
       "      <th>Horror</th>\n",
       "      <th>Musical</th>\n",
       "      <th>Mystery</th>\n",
       "      <th>Romance</th>\n",
       "      <th>Sci-Fi</th>\n",
       "      <th>Thriller</th>\n",
       "      <th>War</th>\n",
       "      <th>Western</th>\n",
       "    </tr>\n",
       "  </thead>\n",
       "  <tbody>\n",
       "    <tr>\n",
       "      <th>3</th>\n",
       "      <td>4</td>\n",
       "      <td>Get Shorty (1995)</td>\n",
       "      <td>1995-01-01</td>\n",
       "      <td>http://us.imdb.com/M/title-exact?Get%20Shorty%...</td>\n",
       "      <td>0</td>\n",
       "      <td>1</td>\n",
       "      <td>0</td>\n",
       "      <td>0</td>\n",
       "      <td>0</td>\n",
       "      <td>1</td>\n",
       "      <td>...</td>\n",
       "      <td>0</td>\n",
       "      <td>0</td>\n",
       "      <td>0</td>\n",
       "      <td>0</td>\n",
       "      <td>0</td>\n",
       "      <td>0</td>\n",
       "      <td>0</td>\n",
       "      <td>0</td>\n",
       "      <td>0</td>\n",
       "      <td>0</td>\n",
       "    </tr>\n",
       "    <tr>\n",
       "      <th>16</th>\n",
       "      <td>17</td>\n",
       "      <td>From Dusk Till Dawn (1996)</td>\n",
       "      <td>1996-02-05</td>\n",
       "      <td>http://us.imdb.com/M/title-exact?From%20Dusk%2...</td>\n",
       "      <td>0</td>\n",
       "      <td>1</td>\n",
       "      <td>0</td>\n",
       "      <td>0</td>\n",
       "      <td>0</td>\n",
       "      <td>1</td>\n",
       "      <td>...</td>\n",
       "      <td>0</td>\n",
       "      <td>0</td>\n",
       "      <td>1</td>\n",
       "      <td>0</td>\n",
       "      <td>0</td>\n",
       "      <td>0</td>\n",
       "      <td>0</td>\n",
       "      <td>1</td>\n",
       "      <td>0</td>\n",
       "      <td>0</td>\n",
       "    </tr>\n",
       "    <tr>\n",
       "      <th>20</th>\n",
       "      <td>21</td>\n",
       "      <td>Muppet Treasure Island (1996)</td>\n",
       "      <td>1996-02-16</td>\n",
       "      <td>http://us.imdb.com/M/title-exact?Muppet%20Trea...</td>\n",
       "      <td>0</td>\n",
       "      <td>1</td>\n",
       "      <td>1</td>\n",
       "      <td>0</td>\n",
       "      <td>0</td>\n",
       "      <td>1</td>\n",
       "      <td>...</td>\n",
       "      <td>0</td>\n",
       "      <td>0</td>\n",
       "      <td>0</td>\n",
       "      <td>1</td>\n",
       "      <td>0</td>\n",
       "      <td>0</td>\n",
       "      <td>0</td>\n",
       "      <td>1</td>\n",
       "      <td>0</td>\n",
       "      <td>0</td>\n",
       "    </tr>\n",
       "    <tr>\n",
       "      <th>28</th>\n",
       "      <td>29</td>\n",
       "      <td>Batman Forever (1995)</td>\n",
       "      <td>1995-01-01</td>\n",
       "      <td>http://us.imdb.com/M/title-exact?Batman%20Fore...</td>\n",
       "      <td>0</td>\n",
       "      <td>1</td>\n",
       "      <td>1</td>\n",
       "      <td>0</td>\n",
       "      <td>0</td>\n",
       "      <td>1</td>\n",
       "      <td>...</td>\n",
       "      <td>0</td>\n",
       "      <td>0</td>\n",
       "      <td>0</td>\n",
       "      <td>0</td>\n",
       "      <td>0</td>\n",
       "      <td>0</td>\n",
       "      <td>0</td>\n",
       "      <td>0</td>\n",
       "      <td>0</td>\n",
       "      <td>0</td>\n",
       "    </tr>\n",
       "    <tr>\n",
       "      <th>72</th>\n",
       "      <td>73</td>\n",
       "      <td>Maverick (1994)</td>\n",
       "      <td>1994-01-01</td>\n",
       "      <td>http://us.imdb.com/M/title-exact?Maverick%20(1...</td>\n",
       "      <td>0</td>\n",
       "      <td>1</td>\n",
       "      <td>0</td>\n",
       "      <td>0</td>\n",
       "      <td>0</td>\n",
       "      <td>1</td>\n",
       "      <td>...</td>\n",
       "      <td>0</td>\n",
       "      <td>0</td>\n",
       "      <td>0</td>\n",
       "      <td>0</td>\n",
       "      <td>0</td>\n",
       "      <td>0</td>\n",
       "      <td>0</td>\n",
       "      <td>0</td>\n",
       "      <td>0</td>\n",
       "      <td>1</td>\n",
       "    </tr>\n",
       "  </tbody>\n",
       "</table>\n",
       "<p>5 rows × 23 columns</p>\n",
       "</div>"
      ],
      "text/plain": [
       "    id                           Name Release Date  \\\n",
       "3    4              Get Shorty (1995)   1995-01-01   \n",
       "16  17     From Dusk Till Dawn (1996)   1996-02-05   \n",
       "20  21  Muppet Treasure Island (1996)   1996-02-16   \n",
       "28  29          Batman Forever (1995)   1995-01-01   \n",
       "72  73                Maverick (1994)   1994-01-01   \n",
       "\n",
       "                                             IMDB URL  unknown  Action  \\\n",
       "3   http://us.imdb.com/M/title-exact?Get%20Shorty%...        0       1   \n",
       "16  http://us.imdb.com/M/title-exact?From%20Dusk%2...        0       1   \n",
       "20  http://us.imdb.com/M/title-exact?Muppet%20Trea...        0       1   \n",
       "28  http://us.imdb.com/M/title-exact?Batman%20Fore...        0       1   \n",
       "72  http://us.imdb.com/M/title-exact?Maverick%20(1...        0       1   \n",
       "\n",
       "    Adventure  Animation  Children's  Comedy  ...  Fantasy  Film-Noir  Horror  \\\n",
       "3           0          0           0       1  ...        0          0       0   \n",
       "16          0          0           0       1  ...        0          0       1   \n",
       "20          1          0           0       1  ...        0          0       0   \n",
       "28          1          0           0       1  ...        0          0       0   \n",
       "72          0          0           0       1  ...        0          0       0   \n",
       "\n",
       "    Musical  Mystery  Romance  Sci-Fi  Thriller  War  Western  \n",
       "3         0        0        0       0         0    0        0  \n",
       "16        0        0        0       0         1    0        0  \n",
       "20        1        0        0       0         1    0        0  \n",
       "28        0        0        0       0         0    0        0  \n",
       "72        0        0        0       0         0    0        1  \n",
       "\n",
       "[5 rows x 23 columns]"
      ]
     },
     "execution_count": 19,
     "metadata": {},
     "output_type": "execute_result"
    }
   ],
   "source": [
    "df_peliculas = Pelicula.create_df_from_csv(PELICULAS_CSV_ROUTE)\n",
    "Pelicula.get_from_df(df_peliculas, generos=['Action', 'Comedy']).head()"
   ]
  },
  {
   "attachments": {},
   "cell_type": "markdown",
   "metadata": {},
   "source": [
    "*GET_STATS*"
   ]
  },
  {
   "cell_type": "code",
   "execution_count": 12,
   "metadata": {},
   "outputs": [
    {
     "name": "stdout",
     "output_type": "stream",
     "text": [
      "Película más vieja:\n",
      "      id                          Name Release Date  \\\n",
      "260  261                Air Bud (1997)  01-Aug-1997   \n",
      "261  262  In the Company of Men (1997)  01-Aug-1997   \n",
      "357  358                  Spawn (1997)  01-Aug-1997   \n",
      "872  873        Picture Perfect (1997)  01-Aug-1997   \n",
      "\n",
      "                                              IMDB URL  unknown  Action  \\\n",
      "260    http://us.imdb.com/M/title-exact?Air+Bud+(1997)        0       0   \n",
      "261  http://us.imdb.com/M/title-exact?In+the+Compan...        0       0   \n",
      "357    http://us.imdb.com/M/title-exact?Spawn+(1997/I)        0       1   \n",
      "872  http://us.imdb.com/M/title-exact?Picture+Perfe...        0       0   \n",
      "\n",
      "     Adventure  Animation  Children's  Comedy  ...  Fantasy  Film-Noir  \\\n",
      "260          0          0           1       1  ...        0          0   \n",
      "261          0          0           0       0  ...        0          0   \n",
      "357          1          0           0       0  ...        0          0   \n",
      "872          0          0           0       1  ...        0          0   \n",
      "\n",
      "     Horror  Musical  Mystery  Romance  Sci-Fi  Thriller  War  Western  \n",
      "260       0        0        0        0       0         0    0        0  \n",
      "261       0        0        0        0       0         0    0        0  \n",
      "357       0        0        0        0       1         1    0        0  \n",
      "872       0        0        0        1       0         0    0        0  \n",
      "\n",
      "[4 rows x 23 columns]\n",
      "\n",
      "Película más nueva:\n",
      "      id                 Name Release Date  \\\n",
      "471  472   Dragonheart (1996)  31-May-1996   \n",
      "818  819         Eddie (1996)  31-May-1996   \n",
      "824  825  Arrival, The (1996)  31-May-1996   \n",
      "\n",
      "                                              IMDB URL  unknown  Action  \\\n",
      "471  http://us.imdb.com/M/title-exact?Dragonheart%2...        0       1   \n",
      "818    http://us.imdb.com/M/title-exact?Eddie%20(1996)        0       0   \n",
      "824  http://us.imdb.com/M/title-exact?Arrival,%20Th...        0       1   \n",
      "\n",
      "     Adventure  Animation  Children's  Comedy  ...  Fantasy  Film-Noir  \\\n",
      "471          1          0           0       0  ...        1          0   \n",
      "818          0          0           0       1  ...        0          0   \n",
      "824          0          0           0       0  ...        0          0   \n",
      "\n",
      "     Horror  Musical  Mystery  Romance  Sci-Fi  Thriller  War  Western  \n",
      "471       0        0        0        0       0         0    0        0  \n",
      "818       0        0        0        0       0         0    0        0  \n",
      "824       0        0        0        0       1         1    0        0  \n",
      "\n",
      "[3 rows x 23 columns]\n"
     ]
    },
    {
     "data": {
      "image/png": "[encoded data removed]",
      "text/plain": [
       "<Figure size 1600x600 with 2 Axes>"
      ]
     },
     "metadata": {},
     "output_type": "display_data"
    }
   ],
   "source": [
    "Pelicula.get_stats(df_peliculas, generos=['Action', 'Comedy', 'Romance'])\t"
   ]
  },
  {
   "attachments": {},
   "cell_type": "markdown",
   "metadata": {},
   "source": [
    "*WRITE_DF*"
   ]
  },
  {
   "cell_type": "code",
   "execution_count": 20,
   "metadata": {},
   "outputs": [
    {
     "name": "stdout",
     "output_type": "stream",
     "text": [
      "Se ha escrito el DataFrame en el archivo CSV\n"
     ]
    }
   ],
   "source": [
    "p = Pelicula( \n",
    "       nombre='Avatar4', \n",
    "       fecha_estreno='10-Jan-2202', \n",
    "       generos=['Sci-Fi', 'Action', 'Adventure', 'Fantasy']\n",
    "  )\n",
    "\n",
    "try:\n",
    "    p.write_df(df_peliculas)\n",
    "except Exception as e:\n",
    "    print(e)\n",
    "\n",
    "\n"
   ]
  },
  {
   "cell_type": "markdown",
   "metadata": {},
   "source": [
    "*REMOVE_FROM_DF*"
   ]
  },
  {
   "cell_type": "code",
   "execution_count": 8,
   "metadata": {},
   "outputs": [
    {
     "name": "stdout",
     "output_type": "stream",
     "text": [
      "Se ha eliminado el registro del DataFrame\n"
     ]
    }
   ],
   "source": [
    "p = Pelicula(\n",
    "    nombre='Scream of Stone (Schrei aus Stein) (1991)',\n",
    "    fecha_estreno='08-Mar-1996', \n",
    "    generos=['Drama'],\n",
    "    IMDB_URL='http://us.imdb.com/M/title-exact?Schrei%20aus%20Stein%20(1991)',\n",
    "    id=1682\n",
    ")\n",
    "\n",
    "p.remove_from_df(df_peliculas)\n",
    "\n"
   ]
  },
  {
   "cell_type": "markdown",
   "metadata": {},
   "source": [
    "# CLASE SCORES"
   ]
  },
  {
   "cell_type": "markdown",
   "metadata": {},
   "source": [
    "*CREATE_DF_FROM_CSV*\n"
   ]
  },
  {
   "cell_type": "code",
   "execution_count": 9,
   "metadata": {},
   "outputs": [
    {
     "name": "stdout",
     "output_type": "stream",
     "text": [
      "   Unnamed: 0  user_id  movie_id  rating                Date\n",
      "0           0      196       242       3 1997-12-04 15:55:49\n",
      "1           1      186       302       3 1998-04-04 19:22:22\n",
      "2           2       22       377       1 1997-11-07 07:18:36\n",
      "3           3      244        51       2 1997-11-27 05:02:03\n",
      "4           4      166       346       1 1998-02-02 05:33:16\n"
     ]
    }
   ],
   "source": [
    "df_scores = Scores.create_df_from_csv(SCORES_CSV_ROUTE)\n",
    "\n",
    "print(df_scores.head())"
   ]
  },
  {
   "cell_type": "markdown",
   "metadata": {},
   "source": [
    "*GET_FROM_DF*"
   ]
  },
  {
   "cell_type": "code",
   "execution_count": 13,
   "metadata": {},
   "outputs": [
    {
     "data": {
      "text/html": [
       "<div>\n",
       "<style scoped>\n",
       "    .dataframe tbody tr th:only-of-type {\n",
       "        vertical-align: middle;\n",
       "    }\n",
       "\n",
       "    .dataframe tbody tr th {\n",
       "        vertical-align: top;\n",
       "    }\n",
       "\n",
       "    .dataframe thead th {\n",
       "        text-align: right;\n",
       "    }\n",
       "</style>\n",
       "<table border=\"1\" class=\"dataframe\">\n",
       "  <thead>\n",
       "    <tr style=\"text-align: right;\">\n",
       "      <th></th>\n",
       "      <th>Unnamed: 0</th>\n",
       "      <th>user_id</th>\n",
       "      <th>movie_id</th>\n",
       "      <th>rating</th>\n",
       "      <th>Date</th>\n",
       "    </tr>\n",
       "  </thead>\n",
       "  <tbody>\n",
       "    <tr>\n",
       "      <th>47638</th>\n",
       "      <td>47638</td>\n",
       "      <td>1</td>\n",
       "      <td>5</td>\n",
       "      <td>3</td>\n",
       "      <td>1998-03-13 01:15:12</td>\n",
       "    </tr>\n",
       "  </tbody>\n",
       "</table>\n",
       "</div>"
      ],
      "text/plain": [
       "       Unnamed: 0  user_id  movie_id  rating                 Date\n",
       "47638       47638        1         5       3  1998-03-13 01:15:12"
      ]
     },
     "execution_count": 13,
     "metadata": {},
     "output_type": "execute_result"
    }
   ],
   "source": [
    "Scores.get_from_df(df_scores, usuario_id=1, pelicula_id=5)"
   ]
  },
  {
   "cell_type": "markdown",
   "metadata": {},
   "source": [
    "*GET_STATS*"
   ]
  },
  {
   "cell_type": "code",
   "execution_count": 6,
   "metadata": {},
   "outputs": [
    {
     "data": {
      "text/plain": [
       "movie_id\n",
       "1       3.878319\n",
       "2       3.206107\n",
       "3       3.033333\n",
       "4       3.550239\n",
       "5       3.302326\n",
       "          ...   \n",
       "1677    3.000000\n",
       "1678    1.000000\n",
       "1679    3.000000\n",
       "1680    2.000000\n",
       "1681    3.000000\n",
       "Name: rating, Length: 1681, dtype: float64"
      ]
     },
     "execution_count": 6,
     "metadata": {},
     "output_type": "execute_result"
    }
   ],
   "source": [
    "Scores.get_movie_avg(df_scores)\n"
   ]
  },
  {
   "cell_type": "code",
   "execution_count": 7,
   "metadata": {},
   "outputs": [
    {
     "data": {
      "text/plain": [
       "user_id\n",
       "1      3.610294\n",
       "2      3.709677\n",
       "3      2.796296\n",
       "4      4.333333\n",
       "5      2.874286\n",
       "         ...   \n",
       "939    4.265306\n",
       "940    3.457944\n",
       "941    4.045455\n",
       "942    4.265823\n",
       "943    3.410714\n",
       "Name: rating, Length: 943, dtype: float64"
      ]
     },
     "execution_count": 7,
     "metadata": {},
     "output_type": "execute_result"
    }
   ],
   "source": [
    "Scores.get_user_avg(df_scores)\n"
   ]
  },
  {
   "cell_type": "code",
   "execution_count": 8,
   "metadata": {},
   "outputs": [
    {
     "data": {
      "text/plain": [
       "3.610294117647059"
      ]
     },
     "execution_count": 8,
     "metadata": {},
     "output_type": "execute_result"
    }
   ],
   "source": [
    "Scores.get_user_avg_by_id(df_scores, user_id=1)\n"
   ]
  },
  {
   "cell_type": "code",
   "execution_count": 9,
   "metadata": {},
   "outputs": [
    {
     "data": {
      "text/plain": [
       "3"
      ]
     },
     "execution_count": 9,
     "metadata": {},
     "output_type": "execute_result"
    }
   ],
   "source": [
    "Scores.get_movie_avg_by_id(df_scores, movie_id=5)"
   ]
  },
  {
   "cell_type": "markdown",
   "metadata": {},
   "source": [
    "*WRITE_DF*"
   ]
  },
  {
   "cell_type": "code",
   "execution_count": 11,
   "metadata": {},
   "outputs": [
    {
     "name": "stdout",
     "output_type": "stream",
     "text": [
      "5 puntos para la película GoldenEye (1995)\n"
     ]
    }
   ],
   "source": [
    "from datetime import datetime\n",
    "\n",
    "score = Scores( \n",
    "       pelicula_id=2, \n",
    "       usuario_id=2, \n",
    "       puntuacion=5,\n",
    "       timestamp=datetime.now()\n",
    "  )\n",
    "\n",
    "try:\n",
    "    score.write_df(df_scores)\n",
    "except Exception as e:\n",
    "    print(e)\n"
   ]
  },
  {
   "cell_type": "markdown",
   "metadata": {},
   "source": [
    "*REMOVE_FROM_DF*"
   ]
  },
  {
   "cell_type": "code",
   "execution_count": 16,
   "metadata": {},
   "outputs": [
    {
     "name": "stdout",
     "output_type": "stream",
     "text": [
      "Se ha eliminado la puntuacion de la pelicula 2\n"
     ]
    }
   ],
   "source": [
    "from datetime import datetime\n",
    "score = Scores( \n",
    "       pelicula_id=2, \n",
    "       usuario_id=2, \n",
    "       puntuacion=5,\n",
    "       timestamp=datetime.now()\n",
    "  )\n",
    "\n",
    "try:\n",
    "    score.remove_from_df(df_scores)\n",
    "except Exception as e:\n",
    "    print(e)\n"
   ]
  },
  {
   "cell_type": "markdown",
   "metadata": {},
   "source": [
    "# SAVE_ALL / SAVE_BACKUP"
   ]
  },
  {
   "cell_type": "code",
   "execution_count": 3,
   "metadata": {},
   "outputs": [
    {
     "name": "stdout",
     "output_type": "stream",
     "text": [
      "Se han guardado todos los archivos CSV.\n"
     ]
    }
   ],
   "source": [
    "save_all(df_personas, df_trabajadores, df_usuarios, df_peliculas, df_scores)\n"
   ]
  },
  {
   "cell_type": "code",
   "execution_count": null,
   "metadata": {},
   "outputs": [],
   "source": [
    "save_backup()"
   ]
  }
 ],
 "metadata": {
  "kernelspec": {
   "display_name": "Python 3",
   "language": "python",
   "name": "python3"
  },
  "language_info": {
   "codemirror_mode": {
    "name": "ipython",
    "version": 3
   },
   "file_extension": ".py",
   "mimetype": "text/x-python",
   "name": "python",
   "nbconvert_exporter": "python",
   "pygments_lexer": "ipython3",
   "version": "3.11.3"
  },
  "orig_nbformat": 4
 },
 "nbformat": 4,
 "nbformat_minor": 2
}
